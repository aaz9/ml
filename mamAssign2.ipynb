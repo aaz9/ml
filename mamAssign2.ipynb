{
 "cells": [
  {
   "cell_type": "code",
   "execution_count": 1,
   "id": "liable-kinase",
   "metadata": {},
   "outputs": [],
   "source": [
    "import pandas as pd\n",
    "import numpy as np\n",
    "MyData = pd.read_excel(r\"C:/dataset.xlsx\")"
   ]
  },
  {
   "cell_type": "code",
   "execution_count": 2,
   "id": "rental-wagner",
   "metadata": {},
   "outputs": [
    {
     "data": {
      "text/plain": [
       "(17, 3)"
      ]
     },
     "execution_count": 2,
     "metadata": {},
     "output_type": "execute_result"
    }
   ],
   "source": [
    "MyData.shape"
   ]
  },
  {
   "cell_type": "code",
   "execution_count": 3,
   "id": "indoor-portsmouth",
   "metadata": {},
   "outputs": [
    {
     "name": "stdout",
     "output_type": "stream",
     "text": [
      "<bound method NDFrame.head of     Age  Income  Expense\n",
      "0    25   28425    20000\n",
      "1    26   22170    20000\n",
      "2    27   40857    35000\n",
      "3    28   25486    20000\n",
      "4    29   34805    30000\n",
      "5    23   33410    25000\n",
      "6    32   34943    30000\n",
      "7   109   38608    12000\n",
      "8   225   40286    12000\n",
      "9    34   44140    21000\n",
      "10   56   29158    12000\n",
      "11   78   42098    13000\n",
      "12   21   25730    20000\n",
      "13   34   25818    21000\n",
      "14   56   20778    23000\n",
      "15   32   47165    40000\n",
      "16   34   22903    15000>\n",
      "Age        int64\n",
      "Income     int64\n",
      "Expense    int64\n",
      "dtype: object\n"
     ]
    }
   ],
   "source": [
    "print(MyData.head)\n",
    "print(MyData.dtypes)"
   ]
  },
  {
   "cell_type": "code",
   "execution_count": 4,
   "id": "contemporary-farmer",
   "metadata": {},
   "outputs": [
    {
     "data": {
      "text/plain": [
       "Age        0\n",
       "Income     0\n",
       "Expense    0\n",
       "dtype: int64"
      ]
     },
     "execution_count": 4,
     "metadata": {},
     "output_type": "execute_result"
    }
   ],
   "source": [
    "MyData.isnull().sum() "
   ]
  },
  {
   "cell_type": "code",
   "execution_count": 5,
   "id": "forty-onion",
   "metadata": {},
   "outputs": [
    {
     "data": {
      "text/html": [
       "<div>\n",
       "<style scoped>\n",
       "    .dataframe tbody tr th:only-of-type {\n",
       "        vertical-align: middle;\n",
       "    }\n",
       "\n",
       "    .dataframe tbody tr th {\n",
       "        vertical-align: top;\n",
       "    }\n",
       "\n",
       "    .dataframe thead th {\n",
       "        text-align: right;\n",
       "    }\n",
       "</style>\n",
       "<table border=\"1\" class=\"dataframe\">\n",
       "  <thead>\n",
       "    <tr style=\"text-align: right;\">\n",
       "      <th></th>\n",
       "      <th>Age</th>\n",
       "      <th>Income</th>\n",
       "      <th>Expense</th>\n",
       "    </tr>\n",
       "  </thead>\n",
       "  <tbody>\n",
       "    <tr>\n",
       "      <th>count</th>\n",
       "      <td>17.000000</td>\n",
       "      <td>17.000000</td>\n",
       "      <td>17.000000</td>\n",
       "    </tr>\n",
       "    <tr>\n",
       "      <th>mean</th>\n",
       "      <td>51.117647</td>\n",
       "      <td>32751.764706</td>\n",
       "      <td>21705.882353</td>\n",
       "    </tr>\n",
       "    <tr>\n",
       "      <th>std</th>\n",
       "      <td>50.362290</td>\n",
       "      <td>8385.789919</td>\n",
       "      <td>8206.435781</td>\n",
       "    </tr>\n",
       "    <tr>\n",
       "      <th>min</th>\n",
       "      <td>21.000000</td>\n",
       "      <td>20778.000000</td>\n",
       "      <td>12000.000000</td>\n",
       "    </tr>\n",
       "    <tr>\n",
       "      <th>25%</th>\n",
       "      <td>27.000000</td>\n",
       "      <td>25730.000000</td>\n",
       "      <td>15000.000000</td>\n",
       "    </tr>\n",
       "    <tr>\n",
       "      <th>50%</th>\n",
       "      <td>32.000000</td>\n",
       "      <td>33410.000000</td>\n",
       "      <td>20000.000000</td>\n",
       "    </tr>\n",
       "    <tr>\n",
       "      <th>75%</th>\n",
       "      <td>56.000000</td>\n",
       "      <td>40286.000000</td>\n",
       "      <td>25000.000000</td>\n",
       "    </tr>\n",
       "    <tr>\n",
       "      <th>max</th>\n",
       "      <td>225.000000</td>\n",
       "      <td>47165.000000</td>\n",
       "      <td>40000.000000</td>\n",
       "    </tr>\n",
       "  </tbody>\n",
       "</table>\n",
       "</div>"
      ],
      "text/plain": [
       "              Age        Income       Expense\n",
       "count   17.000000     17.000000     17.000000\n",
       "mean    51.117647  32751.764706  21705.882353\n",
       "std     50.362290   8385.789919   8206.435781\n",
       "min     21.000000  20778.000000  12000.000000\n",
       "25%     27.000000  25730.000000  15000.000000\n",
       "50%     32.000000  33410.000000  20000.000000\n",
       "75%     56.000000  40286.000000  25000.000000\n",
       "max    225.000000  47165.000000  40000.000000"
      ]
     },
     "execution_count": 5,
     "metadata": {},
     "output_type": "execute_result"
    }
   ],
   "source": [
    "MyData.describe() "
   ]
  },
  {
   "cell_type": "code",
   "execution_count": 6,
   "id": "close-beach",
   "metadata": {},
   "outputs": [
    {
     "data": {
      "text/html": [
       "<div>\n",
       "<style scoped>\n",
       "    .dataframe tbody tr th:only-of-type {\n",
       "        vertical-align: middle;\n",
       "    }\n",
       "\n",
       "    .dataframe tbody tr th {\n",
       "        vertical-align: top;\n",
       "    }\n",
       "\n",
       "    .dataframe thead th {\n",
       "        text-align: right;\n",
       "    }\n",
       "</style>\n",
       "<table border=\"1\" class=\"dataframe\">\n",
       "  <thead>\n",
       "    <tr style=\"text-align: right;\">\n",
       "      <th></th>\n",
       "      <th>Age</th>\n",
       "    </tr>\n",
       "  </thead>\n",
       "  <tbody>\n",
       "    <tr>\n",
       "      <th>count</th>\n",
       "      <td>17.000000</td>\n",
       "    </tr>\n",
       "    <tr>\n",
       "      <th>mean</th>\n",
       "      <td>51.117647</td>\n",
       "    </tr>\n",
       "    <tr>\n",
       "      <th>std</th>\n",
       "      <td>50.362290</td>\n",
       "    </tr>\n",
       "    <tr>\n",
       "      <th>min</th>\n",
       "      <td>21.000000</td>\n",
       "    </tr>\n",
       "    <tr>\n",
       "      <th>1%</th>\n",
       "      <td>21.320000</td>\n",
       "    </tr>\n",
       "    <tr>\n",
       "      <th>10%</th>\n",
       "      <td>24.200000</td>\n",
       "    </tr>\n",
       "    <tr>\n",
       "      <th>30%</th>\n",
       "      <td>27.800000</td>\n",
       "    </tr>\n",
       "    <tr>\n",
       "      <th>50%</th>\n",
       "      <td>32.000000</td>\n",
       "    </tr>\n",
       "    <tr>\n",
       "      <th>75%</th>\n",
       "      <td>56.000000</td>\n",
       "    </tr>\n",
       "    <tr>\n",
       "      <th>90%</th>\n",
       "      <td>90.400000</td>\n",
       "    </tr>\n",
       "    <tr>\n",
       "      <th>99%</th>\n",
       "      <td>206.440000</td>\n",
       "    </tr>\n",
       "    <tr>\n",
       "      <th>100%</th>\n",
       "      <td>225.000000</td>\n",
       "    </tr>\n",
       "    <tr>\n",
       "      <th>max</th>\n",
       "      <td>225.000000</td>\n",
       "    </tr>\n",
       "  </tbody>\n",
       "</table>\n",
       "</div>"
      ],
      "text/plain": [
       "              Age\n",
       "count   17.000000\n",
       "mean    51.117647\n",
       "std     50.362290\n",
       "min     21.000000\n",
       "1%      21.320000\n",
       "10%     24.200000\n",
       "30%     27.800000\n",
       "50%     32.000000\n",
       "75%     56.000000\n",
       "90%     90.400000\n",
       "99%    206.440000\n",
       "100%   225.000000\n",
       "max    225.000000"
      ]
     },
     "execution_count": 6,
     "metadata": {},
     "output_type": "execute_result"
    }
   ],
   "source": [
    "#Checking different percentiles\n",
    "pd.DataFrame(MyData['Age']).describe(percentiles=(1,0.99,0.9,0.75,0.5,0.3,0.1,0.01))"
   ]
  },
  {
   "cell_type": "code",
   "execution_count": 7,
   "id": "tribal-heavy",
   "metadata": {},
   "outputs": [
    {
     "data": {
      "image/png": "[encoded data removed]",
      "text/plain": [
       "<Figure size 640x480 with 1 Axes>"
      ]
     },
     "metadata": {},
     "output_type": "display_data"
    }
   ],
   "source": [
    "#checking boxplot for Age column\n",
    "import matplotlib.pyplot as plt\n",
    "# %matplotlib inline\n",
    "plt.boxplot(MyData['Age'])\n",
    "plt.show()"
   ]
  },
  {
   "cell_type": "code",
   "execution_count": 8,
   "id": "parallel-graphic",
   "metadata": {},
   "outputs": [],
   "source": [
    "#Checking Outlier by definition and treating outliers\n",
    "\n",
    "#getting median Age\n",
    "Age_col_df = pd.DataFrame(MyData['Age'])\n",
    "Age_median = Age_col_df.median()\n",
    "\n",
    "#getting IQR of Age column\n",
    "Q3 = Age_col_df.quantile(q=0.75)\n",
    "Q1 = Age_col_df.quantile(q=0.25)\n",
    "IQR = Q3-Q1\n",
    "\n",
    "#Deriving boundaries of Outliers\n",
    "IQR_LL = int(Q1 - 1.5*IQR)\n",
    "IQR_UL = int(Q3 + 1.5*IQR)\n",
    "\n",
    "#Finding and treating outliers - both lower and upper end\n",
    "MyData.loc[MyData['Age']>IQR_UL , 'Age'] = int(Age_col_df.quantile(q=0.90))\n",
    "MyData.loc[MyData['Age']<IQR_LL , 'Age'] = int(Age_col_df.quantile(q=0.01))"
   ]
  },
  {
   "cell_type": "code",
   "execution_count": 9,
   "id": "downtown-gilbert",
   "metadata": {},
   "outputs": [
    {
     "data": {
      "image/png": "[encoded data removed]",
      "text/plain": [
       "<Figure size 640x480 with 1 Axes>"
      ]
     },
     "metadata": {},
     "output_type": "display_data"
    }
   ],
   "source": [
    "#Check max age value now\n",
    "max(MyData['Age'])\n",
    "plt.boxplot(MyData['Age'])\n",
    "plt.show()"
   ]
  },
  {
   "cell_type": "code",
   "execution_count": 11,
   "id": "sapphire-trail",
   "metadata": {},
   "outputs": [
    {
     "data": {
      "image/png": "[encoded data removed]",
      "text/plain": [
       "<Figure size 640x480 with 1 Axes>"
      ]
     },
     "metadata": {},
     "output_type": "display_data"
    }
   ],
   "source": [
    "#Check how Expense is varying with Age\n",
    "x = MyData[\"Age\"]\n",
    "y=  MyData[\"Expense\"]\n",
    "plt.scatter(x, y)\n",
    "plt.title('Age Expenses chart')\n",
    "plt.xlabel('age')\n",
    "plt.ylabel('Expenses')\n",
    "plt.show()"
   ]
  },
  {
   "cell_type": "code",
   "execution_count": 12,
   "id": "radio-graduation",
   "metadata": {},
   "outputs": [
    {
     "data": {
      "image/png": "[encoded data removed]",
      "text/plain": [
       "<Figure size 800x400 with 2 Axes>"
      ]
     },
     "metadata": {},
     "output_type": "display_data"
    }
   ],
   "source": [
    "#check correltion matrix - to check the strength of variation bwtween two variables\n",
    "correlation_matrix= MyData.corr().round(2)\n",
    "fgr, ax = plt.subplots(figsize =(8, 4)) \n",
    "import seaborn as sns\n",
    "c = sns.heatmap(data=correlation_matrix, annot=True)\n",
    "fgr.savefig(\"myimage.png\")"
   ]
  },
  {
   "cell_type": "code",
   "execution_count": 13,
   "id": "fixed-message",
   "metadata": {},
   "outputs": [],
   "source": [
    "#Separating features and response\n",
    "'''features = [\"Income\",\"Age\"]\n",
    "response = [\"Expense\"]\n",
    "x=MyData[features]\n",
    "y=MyData[response]'''\n",
    "\n",
    "#print(x)\n",
    "\n",
    "#Normalization/scaling of data - understanding scaling\n",
    "from sklearn.preprocessing import MinMaxScaler\n",
    "scaler = MinMaxScaler()\n",
    "scaled_data = scaler.fit_transform(MyData)\n",
    "scaled_data\n",
    "\n",
    "#converting data back to pandas dataframe\n",
    "MyData_scaled = pd.DataFrame(scaled_data)\n",
    "MyData_scaled.columns = MyData.columns\n",
    "\n",
    "#Separating features and response\n",
    "features = [\"Income\",\"Age\"]\n",
    "response = [\"Expense\"]\n",
    "x=MyData_scaled[features]\n",
    "y=MyData_scaled[response]"
   ]
  },
  {
   "cell_type": "code",
   "execution_count": 14,
   "id": "owned-flooring",
   "metadata": {
    "scrolled": true
   },
   "outputs": [
    {
     "name": "stdout",
     "output_type": "stream",
     "text": [
      "53.64011315093605 %\n"
     ]
    }
   ],
   "source": [
    "#Dividing data in test and train\n",
    "#Importing neccesary packages\n",
    "from sklearn.linear_model import LinearRegression\n",
    "from sklearn import metrics\n",
    "from sklearn.model_selection import train_test_split\n",
    "x_train, x_test, y_train, y_test = train_test_split(x, y, test_size=0.1, random_state=0)\n",
    "\n",
    "#Fitting lineaar regression model\n",
    "model = LinearRegression()\n",
    "model.fit(x_train, y_train)\n",
    "\n",
    "#Checking accuracy on test data\n",
    "accuracy = model.score(x_test,y_test)\n",
    "print(accuracy*100,'%')"
   ]
  },
  {
   "cell_type": "code",
   "execution_count": 15,
   "id": "round-fleet",
   "metadata": {},
   "outputs": [
    {
     "name": "stdout",
     "output_type": "stream",
     "text": [
      "R2_score :  -0.9291485172183709\n",
      "MSE :  0.014783127184012751\n"
     ]
    }
   ],
   "source": [
    "import numpy as np\n",
    "\n",
    "y_pred = model.predict(x_test)\n",
    "\n",
    "print('R2_score : ',metrics.r2_score(y_pred,y_test))\n",
    "print('MSE : ',metrics.mean_squared_error(y_pred,y_test))"
   ]
  },
  {
   "cell_type": "code",
   "execution_count": 16,
   "id": "public-electricity",
   "metadata": {},
   "outputs": [
    {
     "data": {
      "text/html": [
       "<div>\n",
       "<style scoped>\n",
       "    .dataframe tbody tr th:only-of-type {\n",
       "        vertical-align: middle;\n",
       "    }\n",
       "\n",
       "    .dataframe tbody tr th {\n",
       "        vertical-align: top;\n",
       "    }\n",
       "\n",
       "    .dataframe thead th {\n",
       "        text-align: right;\n",
       "    }\n",
       "</style>\n",
       "<table border=\"1\" class=\"dataframe\">\n",
       "  <thead>\n",
       "    <tr style=\"text-align: right;\">\n",
       "      <th></th>\n",
       "      <th>Income</th>\n",
       "      <th>Age</th>\n",
       "    </tr>\n",
       "  </thead>\n",
       "  <tbody>\n",
       "    <tr>\n",
       "      <th>1</th>\n",
       "      <td>0.052753</td>\n",
       "      <td>0.072464</td>\n",
       "    </tr>\n",
       "    <tr>\n",
       "      <th>6</th>\n",
       "      <td>0.536817</td>\n",
       "      <td>0.159420</td>\n",
       "    </tr>\n",
       "  </tbody>\n",
       "</table>\n",
       "</div>"
      ],
      "text/plain": [
       "     Income       Age\n",
       "1  0.052753  0.072464\n",
       "6  0.536817  0.159420"
      ]
     },
     "execution_count": 16,
     "metadata": {},
     "output_type": "execute_result"
    }
   ],
   "source": [
    "x_test #the test data - predictors"
   ]
  },
  {
   "cell_type": "code",
   "execution_count": 17,
   "id": "designing-installation",
   "metadata": {},
   "outputs": [
    {
     "data": {
      "text/html": [
       "<div>\n",
       "<style scoped>\n",
       "    .dataframe tbody tr th:only-of-type {\n",
       "        vertical-align: middle;\n",
       "    }\n",
       "\n",
       "    .dataframe tbody tr th {\n",
       "        vertical-align: top;\n",
       "    }\n",
       "\n",
       "    .dataframe thead th {\n",
       "        text-align: right;\n",
       "    }\n",
       "</style>\n",
       "<table border=\"1\" class=\"dataframe\">\n",
       "  <thead>\n",
       "    <tr style=\"text-align: right;\">\n",
       "      <th></th>\n",
       "      <th>Expense</th>\n",
       "    </tr>\n",
       "  </thead>\n",
       "  <tbody>\n",
       "    <tr>\n",
       "      <th>1</th>\n",
       "      <td>0.285714</td>\n",
       "    </tr>\n",
       "    <tr>\n",
       "      <th>6</th>\n",
       "      <td>0.642857</td>\n",
       "    </tr>\n",
       "  </tbody>\n",
       "</table>\n",
       "</div>"
      ],
      "text/plain": [
       "    Expense\n",
       "1  0.285714\n",
       "6  0.642857"
      ]
     },
     "execution_count": 17,
     "metadata": {},
     "output_type": "execute_result"
    }
   ],
   "source": [
    "y_test #the actual values in test data - target column"
   ]
  },
  {
   "cell_type": "code",
   "execution_count": 18,
   "id": "timely-prototype",
   "metadata": {},
   "outputs": [
    {
     "data": {
      "text/plain": [
       "array([[0.2961481 ],\n",
       "       [0.47122559]])"
      ]
     },
     "execution_count": 18,
     "metadata": {},
     "output_type": "execute_result"
    }
   ],
   "source": [
    "y_pred"
   ]
  },
  {
   "cell_type": "code",
   "execution_count": 19,
   "id": "amber-haven",
   "metadata": {},
   "outputs": [
    {
     "name": "stdout",
     "output_type": "stream",
     "text": [
      "[0.31784557]\n",
      "[[ 0.47797879 -0.64739125]]\n"
     ]
    }
   ],
   "source": [
    "print(model.intercept_ ) #checking the intercept of model equation\n",
    "print(model.coef_)   #Checking the coefficients of model equation"
   ]
  },
  {
   "cell_type": "code",
   "execution_count": 20,
   "id": "proof-mortgage",
   "metadata": {},
   "outputs": [
    {
     "name": "stdout",
     "output_type": "stream",
     "text": [
      "[[0.31784557]]\n"
     ]
    },
    {
     "name": "stderr",
     "output_type": "stream",
     "text": [
      "C:\\Users\\Lenovo\\AppData\\Local\\Programs\\Python\\Python310\\lib\\site-packages\\sklearn\\base.py:420: UserWarning: X does not have valid feature names, but LinearRegression was fitted with feature names\n",
      "  warnings.warn(\n"
     ]
    }
   ],
   "source": [
    "#print(model.predict([[40, 40000]]))\n",
    "scaled_data = scaler.fit_transform([[40, 40000]])\n",
    "print(model.predict(scaled_data))"
   ]
  },
  {
   "cell_type": "code",
   "execution_count": 21,
   "id": "permanent-drill",
   "metadata": {},
   "outputs": [
    {
     "data": {
      "text/plain": [
       "1.0"
      ]
     },
     "execution_count": 21,
     "metadata": {},
     "output_type": "execute_result"
    }
   ],
   "source": [
    "y_test = [1, 2, 3]\n",
    "y_pred = [1, 2, 3]\n",
    "metrics.r2_score(y_test, y_pred)"
   ]
  },
  {
   "cell_type": "code",
   "execution_count": null,
   "id": "first-kennedy",
   "metadata": {},
   "outputs": [],
   "source": []
  },
  {
   "cell_type": "code",
   "execution_count": null,
   "id": "44760230",
   "metadata": {},
   "outputs": [],
   "source": []
  },
  {
   "cell_type": "code",
   "execution_count": null,
   "id": "8fadf8c9",
   "metadata": {},
   "outputs": [],
   "source": []
  }
 ],
 "metadata": {
  "kernelspec": {
   "display_name": "Python 3 (ipykernel)",
   "language": "python",
   "name": "python3"
  },
  "language_info": {
   "codemirror_mode": {
    "name": "ipython",
    "version": 3
   },
   "file_extension": ".py",
   "mimetype": "text/x-python",
   "name": "python",
   "nbconvert_exporter": "python",
   "pygments_lexer": "ipython3",
   "version": "3.10.0"
  }
 },
 "nbformat": 4,
 "nbformat_minor": 5
}
